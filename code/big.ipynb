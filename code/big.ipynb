{
 "cells": [
  {
   "cell_type": "code",
   "execution_count": 2,
   "metadata": {},
   "outputs": [],
   "source": [
    "import sympy as sp"
   ]
  },
  {
   "cell_type": "code",
   "execution_count": 3,
   "metadata": {},
   "outputs": [],
   "source": [
    "c2, c3, c4, c5, c6 = sp.symbols('c2 c3 c4 c5 c6')\n",
    "c1 = 1\n",
    "alpha = sp.symbols('alpha')\n",
    "e = sp.symbols('e')\n",
    "x = alpha + e\n",
    "e1 = e\n",
    "e2 = e ** 2\n",
    "e3 = e ** 3\n",
    "e4 = e ** 4\n",
    "e5 = e ** 5\n",
    "e6 = e ** 6"
   ]
  },
  {
   "cell_type": "code",
   "execution_count": 4,
   "metadata": {},
   "outputs": [
    {
     "data": {
      "text/plain": [
       "(O(e**6), O(e**7))"
      ]
     },
     "execution_count": 4,
     "metadata": {},
     "output_type": "execute_result"
    }
   ],
   "source": [
    "def taylor_1plus_theta(the, order):\n",
    "    inv = 1 / (1 + the)\n",
    "    return inv.series(e, 0, order)\n",
    "\n",
    "def getO(the, order):\n",
    "    return taylor_1plus_theta(the, order) - taylor_1plus_theta(the, order).removeO()\n",
    "\n",
    "o3 = getO(e, 3)\n",
    "o4 = getO(e, 4)\n",
    "o6 = getO(e, 6)\n",
    "o7 = getO(e, 7)\n",
    "o6, o7"
   ]
  },
  {
   "cell_type": "code",
   "execution_count": 5,
   "metadata": {},
   "outputs": [],
   "source": [
    "def df(err, expand=False):\n",
    "    eee = lambda x: x\n",
    "    if expand:\n",
    "        eee = sp.expand\n",
    "    return eee(1 + 2*c2*err + 3*c3*err**2 + 4*c4*err**3 + 5*c5*err**4 + 6*c6*err**5 + o6)\n",
    "\n",
    "\n",
    "def f(err):\n",
    "    return c1*err + c2*err**2 + c3*err**3 + c4*err**4 + c5*err**5 + c6*err**6 + o7\n",
    "\n",
    "\n",
    "def taylor_inv(fenmu, order):\n",
    "    inv = 1 / fenmu\n",
    "    return 1 / inv.series(e, 0, order)\n",
    "\n",
    "def texify(algo):\n",
    "    sp.print_latex(sp.collect(sp.expand(algo), e))"
   ]
  },
  {
   "cell_type": "code",
   "execution_count": 6,
   "metadata": {},
   "outputs": [
    {
     "data": {
      "text/latex": [
       "$\\displaystyle e + c_{6} e^{6} + c_{5} e^{5} + c_{4} e^{4} + c_{3} e^{3} + c_{2} e^{2} + O\\left(e^{7}\\right)$"
      ],
      "text/plain": [
       "e + c6*e**6 + c5*e**5 + c4*e**4 + c3*e**3 + c2*e**2 + O(e**7)"
      ]
     },
     "execution_count": 6,
     "metadata": {},
     "output_type": "execute_result"
    }
   ],
   "source": [
    "fx = f(e)\n",
    "fx"
   ]
  },
  {
   "cell_type": "code",
   "execution_count": 7,
   "metadata": {},
   "outputs": [
    {
     "data": {
      "text/latex": [
       "$\\displaystyle 1 + 6 c_{6} e^{5} + 5 c_{5} e^{4} + 4 c_{4} e^{3} + 3 c_{3} e^{2} + 2 c_{2} e + O\\left(e^{6}\\right)$"
      ],
      "text/plain": [
       "1 + 6*c6*e**5 + 5*c5*e**4 + 4*c4*e**3 + 3*c3*e**2 + 2*c2*e + O(e**6)"
      ]
     },
     "execution_count": 7,
     "metadata": {},
     "output_type": "execute_result"
    }
   ],
   "source": [
    "dx = df(e)\n",
    "dx"
   ]
  },
  {
   "cell_type": "code",
   "execution_count": 8,
   "metadata": {},
   "outputs": [
    {
     "name": "stdout",
     "output_type": "stream",
     "text": [
      "1 + e^{2} \\cdot \\left(4 c_{2}^{2} - 3 c_{3}\\right) + e^{3} \\left(- 8 c_{2}^{3} + 12 c_{2} c_{3} - 4 c_{4}\\right) + e^{4} \\cdot \\left(16 c_{2}^{4} - 36 c_{2}^{2} c_{3} + 16 c_{2} c_{4} + 9 c_{3}^{2} - 5 c_{5}\\right) + e^{5} \\left(- 32 c_{2}^{5} + 96 c_{2}^{3} c_{3} - 48 c_{2}^{2} c_{4} - 54 c_{2} c_{3}^{2} + 20 c_{2} c_{5} + 24 c_{3} c_{4} - 6 c_{6}\\right) - 2 c_{2} e + O\\left(e^{6}\\right)\n"
     ]
    }
   ],
   "source": [
    "texify(1 / taylor_inv(df(e), 6))"
   ]
  },
  {
   "cell_type": "code",
   "execution_count": 9,
   "metadata": {},
   "outputs": [
    {
     "name": "stdout",
     "output_type": "stream",
     "text": [
      "e + e^{3} \\cdot \\left(2 c_{2}^{2} - 2 c_{3}\\right) + e^{4} \\left(- 4 c_{2}^{3} + 7 c_{2} c_{3} - 3 c_{4}\\right) + e^{5} \\cdot \\left(8 c_{2}^{4} - 20 c_{2}^{2} c_{3} + 10 c_{2} c_{4} + 6 c_{3}^{2} - 4 c_{5}\\right) + e^{6} \\left(- 16 c_{2}^{5} + 52 c_{2}^{3} c_{3} - 28 c_{2}^{2} c_{4} - 33 c_{2} c_{3}^{2} + 13 c_{2} c_{5} + 17 c_{3} c_{4} - 5 c_{6}\\right) - c_{2} e^{2} + O\\left(e^{7}\\right)\n"
     ]
    }
   ],
   "source": [
    "fx_div_dx = sp.collect(sp.expand(fx / taylor_inv(df(e), 6)), e)\n",
    "fx_div_dx\n",
    "texify(fx_div_dx)"
   ]
  },
  {
   "cell_type": "code",
   "execution_count": 10,
   "metadata": {},
   "outputs": [
    {
     "name": "stdout",
     "output_type": "stream",
     "text": [
      "e^{3} \\left(- 2 c_{2}^{2} + 2 c_{3}\\right) + e^{4} \\cdot \\left(4 c_{2}^{3} - 7 c_{2} c_{3} + 3 c_{4}\\right) + e^{5} \\left(- 8 c_{2}^{4} + 20 c_{2}^{2} c_{3} - 10 c_{2} c_{4} - 6 c_{3}^{2} + 4 c_{5}\\right) + e^{6} \\cdot \\left(16 c_{2}^{5} - 52 c_{2}^{3} c_{3} + 28 c_{2}^{2} c_{4} + 33 c_{2} c_{3}^{2} - 13 c_{2} c_{5} - 17 c_{3} c_{4} + 5 c_{6}\\right) + c_{2} e^{2} + \\alpha + O\\left(e^{7}\\right)\n"
     ]
    }
   ],
   "source": [
    "y = x - fx_div_dx\n",
    "texify(y)"
   ]
  },
  {
   "cell_type": "code",
   "execution_count": 11,
   "metadata": {},
   "outputs": [],
   "source": [
    "dy = df(y - alpha, True)"
   ]
  },
  {
   "cell_type": "code",
   "execution_count": 12,
   "metadata": {},
   "outputs": [
    {
     "name": "stdout",
     "output_type": "stream",
     "text": [
      "1 + e^{3} \\left(- 4 c_{2}^{3} + 4 c_{2} c_{3}\\right) + e^{4} \\cdot \\left(8 c_{2}^{4} - 11 c_{2}^{2} c_{3} + 6 c_{2} c_{4}\\right) + e^{5} \\left(- 16 c_{2}^{5} + 28 c_{2}^{3} c_{3} - 20 c_{2}^{2} c_{4} + 8 c_{2} c_{5}\\right) + 2 c_{2}^{2} e^{2} + O\\left(e^{6}\\right)\n"
     ]
    }
   ],
   "source": [
    "texify(sp.collect(dy, e))"
   ]
  },
  {
   "cell_type": "code",
   "execution_count": 41,
   "metadata": {},
   "outputs": [
    {
     "data": {
      "text/latex": [
       "$\\displaystyle e^{3} \\left(c_{2}^{2} + \\frac{c_{3}}{2}\\right) + e^{4} \\left(- 3 c_{2}^{3} + \\frac{3 c_{2} c_{3}}{2} + c_{4}\\right) + e^{5} \\cdot \\left(6 c_{2}^{4} - 9 c_{2}^{2} c_{3} + 2 c_{2} c_{4} - \\frac{3 c_{3}^{2}}{4} + \\frac{3 c_{5}}{2}\\right) + e^{6} \\left(- 9 c_{2}^{5} + 25 c_{2}^{3} c_{3} - 15 c_{2}^{2} c_{4} - \\frac{5 c_{2} c_{3}^{2}}{2} + \\frac{5 c_{2} c_{5}}{2} - \\frac{5 c_{3} c_{4}}{2} + 2 c_{6}\\right) + \\alpha + O\\left(e^{7}\\right)$"
      ],
      "text/plain": [
       "e**3*(c2**2 + c3/2) + e**4*(-3*c2**3 + 3*c2*c3/2 + c4) + e**5*(6*c2**4 - 9*c2**2*c3 + 2*c2*c4 - 3*c3**2/4 + 3*c5/2) + e**6*(-9*c2**5 + 25*c2**3*c3 - 15*c2**2*c4 - 5*c2*c3**2/2 + 5*c2*c5/2 - 5*c3*c4/2 + 2*c6) + alpha + O(e**7)"
      ]
     },
     "execution_count": 41,
     "metadata": {},
     "output_type": "execute_result"
    }
   ],
   "source": [
    "z = x - 2 * fx / taylor_inv(dx + dy, 6)\n",
    "sp.collect(sp.expand(z), e)"
   ]
  },
  {
   "cell_type": "code",
   "execution_count": 14,
   "metadata": {},
   "outputs": [],
   "source": [
    "# fz = f(z - alpha)"
   ]
  },
  {
   "cell_type": "code",
   "execution_count": 42,
   "metadata": {},
   "outputs": [
    {
     "data": {
      "text/latex": [
       "$\\displaystyle \\frac{c_{2} c_{3}^{2} e^{6}}{4} + c_{2}^{3} c_{3} e^{6} + c_{2}^{5} e^{6} + \\alpha + O\\left(e^{7}\\right)$"
      ],
      "text/plain": [
       "c2*c3**2*e**6/4 + c2**3*c3*e**6 + c2**5*e**6 + alpha + O(e**7)"
      ]
     },
     "execution_count": 42,
     "metadata": {},
     "output_type": "execute_result"
    }
   ],
   "source": [
    "# z = (c2**2 + c3/2)*e3+alpha\n",
    "fz = f(z-alpha)\n",
    "dz = df(z-alpha)\n",
    "sp.expand(z - fz / taylor_inv(dz, 6))"
   ]
  },
  {
   "attachments": {},
   "cell_type": "markdown",
   "metadata": {},
   "source": [
    "# Playground"
   ]
  },
  {
   "cell_type": "code",
   "execution_count": 45,
   "metadata": {},
   "outputs": [
    {
     "data": {
      "text/latex": [
       "$\\displaystyle e^{5} \\left(c_{2}^{4} + \\frac{c_{2}^{2} c_{3}}{2}\\right) + e^{6} \\left(- 5 c_{2}^{5} + \\frac{5 c_{2}^{3} c_{3}}{2} + c_{2}^{2} c_{4} + c_{2} c_{3}^{2}\\right) + \\alpha + O\\left(e^{7}\\right)$"
      ],
      "text/plain": [
       "e**5*(c2**4 + c2**2*c3/2) + e**6*(-5*c2**5 + 5*c2**3*c3/2 + c2**2*c4 + c2*c3**2) + alpha + O(e**7)"
      ]
     },
     "execution_count": 45,
     "metadata": {},
     "output_type": "execute_result"
    }
   ],
   "source": [
    "fy = f(y - alpha)\n",
    "newx = z - 2 * fz / taylor_inv(dz + dy, 6)\n",
    "sp.collect(sp.expand(newx), e)"
   ]
  }
 ],
 "metadata": {
  "kernelspec": {
   "display_name": "base",
   "language": "python",
   "name": "python3"
  },
  "language_info": {
   "codemirror_mode": {
    "name": "ipython",
    "version": 3
   },
   "file_extension": ".py",
   "mimetype": "text/x-python",
   "name": "python",
   "nbconvert_exporter": "python",
   "pygments_lexer": "ipython3",
   "version": "3.9.12"
  },
  "orig_nbformat": 4,
  "vscode": {
   "interpreter": {
    "hash": "ccdc769703d18b6ea4b6fb42186f6f4084a00686e327623d18695788ddb5ebab"
   }
  }
 },
 "nbformat": 4,
 "nbformat_minor": 2
}
